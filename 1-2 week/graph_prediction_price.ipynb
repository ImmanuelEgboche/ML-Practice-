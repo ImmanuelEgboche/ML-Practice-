{
 "cells": [
  {
   "cell_type": "code",
   "execution_count": 2,
   "metadata": {},
   "outputs": [
    {
     "name": "stdout",
     "output_type": "stream",
     "text": [
      "Requirement already satisfied: scikit-learn in /Library/Frameworks/Python.framework/Versions/3.10/lib/python3.10/site-packages (1.3.2)\n",
      "Requirement already satisfied: joblib>=1.1.1 in /Library/Frameworks/Python.framework/Versions/3.10/lib/python3.10/site-packages (from scikit-learn) (1.3.2)\n",
      "Requirement already satisfied: numpy<2.0,>=1.17.3 in /Library/Frameworks/Python.framework/Versions/3.10/lib/python3.10/site-packages (from scikit-learn) (1.24.3)\n",
      "Requirement already satisfied: scipy>=1.5.0 in /Library/Frameworks/Python.framework/Versions/3.10/lib/python3.10/site-packages (from scikit-learn) (1.11.4)\n",
      "Requirement already satisfied: threadpoolctl>=2.0.0 in /Library/Frameworks/Python.framework/Versions/3.10/lib/python3.10/site-packages (from scikit-learn) (3.2.0)\n",
      "\u001b[33mWARNING: There was an error checking the latest version of pip.\u001b[0m\u001b[33m\n",
      "\u001b[0mNote: you may need to restart the kernel to use updated packages.\n"
     ]
    }
   ],
   "source": [
    "%pip install scikit-learn"
   ]
  },
  {
   "cell_type": "code",
   "execution_count": 3,
   "metadata": {},
   "outputs": [],
   "source": [
    "import pandas as pd\n",
    "from sklearn.model_selection import train_test_split\n",
    "from sklearn.linear_model import LinearRegression\n",
    "import matplotlib.pyplot as plt"
   ]
  },
  {
   "cell_type": "code",
   "execution_count": 5,
   "metadata": {},
   "outputs": [],
   "source": [
    "#Loading the data\n",
    "df = pd.read_csv('./every_state.csv')\n",
    "state_data = df[df['RegionName']== 'Alabama'].copy()\n",
    "state_data['Date'] = pd.to_datetime(state_data['Year'].astype(str) + '-' + state_data['Month'].astype(str))\n"
   ]
  },
  {
   "cell_type": "code",
   "execution_count": null,
   "metadata": {},
   "outputs": [],
   "source": [
    "#Converting the Date into a numeric format for regression\n",
    "#linear regression models can't directly interpret datetime objects. They require numerical values as input.\n",
    "# adding a sequential number to each row\n",
    "# turns the date into a simple sequence of numbers: 0, 1, 2, 3, etc., where each number corresponds to a specific date. \n",
    "for state in df['RegionName'].unique():\n",
    "    state_data = df[df['RegionName'] == state]\n",
    "    state_data['Date'] = pd.to_datetime(state_data)\n",
    "    \n",
    "    X = state_data[['Time']]\n",
    "    y = state_data['HousePrice']\n",
    "\n",
    "    # Split data \n",
    "    X_train, X_test, y_train, y_test = train_test_split(X, y, test_size=0.2, random_state=42)\n",
    "\n",
    "    # Creating and training the model using scikit-learn LinearRegression\n",
    "    model = LinearRegression()\n",
    "    model.fit(X_train, y_train)\n",
    "\n",
    "    # Make predictions\n",
    "    future_times = [[len(state_data) + i] for i in range(12)]\n",
    "    predicted_prices = model.predict(future_times)\n",
    "\n",
    "    # Plot results \n",
    "    plt.figure(figsize=(12,6))\n",
    "    plt.scatter(X, y, color='blue', label='Actual Prices')\n",
    "    plt.plot(X, model.predict(X), color='red', label='Regression Line')\n",
    "    plt.scatter(future_times, predicted_prices, color='green', label='Future Predictions')\n",
    "    plt.xlabel('Time (Months since start)')\n",
    "    plt.ylabel('House Price')\n",
    "    plt.title('House Price Prediction for Alabama')\n",
    "    plt.legend()\n",
    "    plt.show()\n",
    "\n",
    "\n"
   ]
  }
 ],
 "metadata": {
  "kernelspec": {
   "display_name": "Python 3",
   "language": "python",
   "name": "python3"
  },
  "language_info": {
   "codemirror_mode": {
    "name": "ipython",
    "version": 3
   },
   "file_extension": ".py",
   "mimetype": "text/x-python",
   "name": "python",
   "nbconvert_exporter": "python",
   "pygments_lexer": "ipython3",
   "version": "3.10.4"
  }
 },
 "nbformat": 4,
 "nbformat_minor": 2
}
